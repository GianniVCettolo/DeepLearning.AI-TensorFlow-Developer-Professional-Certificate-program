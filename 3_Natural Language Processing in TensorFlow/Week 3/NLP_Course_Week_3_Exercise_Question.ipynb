{
  "nbformat": 4,
  "nbformat_minor": 0,
  "metadata": {
    "accelerator": "GPU",
    "colab": {
      "name": "NLP Course - Week 3 Exercise Question.ipynb",
      "provenance": []
    },
    "kernelspec": {
      "display_name": "Python 3",
      "name": "python3"
    }
  },
  "cells": [
    {
      "cell_type": "code",
      "metadata": {
        "id": "zX4Kg8DUTKWO"
      },
      "source": [
        "#@title Licensed under the Apache License, Version 2.0 (the \"License\");\n",
        "# you may not use this file except in compliance with the License.\n",
        "# You may obtain a copy of the License at\n",
        "#\n",
        "# https://www.apache.org/licenses/LICENSE-2.0\n",
        "#\n",
        "# Unless required by applicable law or agreed to in writing, software\n",
        "# distributed under the License is distributed on an \"AS IS\" BASIS,\n",
        "# WITHOUT WARRANTIES OR CONDITIONS OF ANY KIND, either express or implied.\n",
        "# See the License for the specific language governing permissions and\n",
        "# limitations under the License."
      ],
      "execution_count": 1,
      "outputs": []
    },
    {
      "cell_type": "code",
      "metadata": {
        "id": "hmA6EzkQJ5jt"
      },
      "source": [
        "import json\n",
        "import tensorflow as tf\n",
        "import csv\n",
        "import random\n",
        "import numpy as np\n",
        "\n",
        "from tensorflow.keras.preprocessing.text import Tokenizer\n",
        "from tensorflow.keras.preprocessing.sequence import pad_sequences\n",
        "from tensorflow.keras.utils import to_categorical\n",
        "from tensorflow.keras import regularizers\n",
        "\n",
        "\n",
        "embedding_dim = 100\n",
        "max_length = 16\n",
        "trunc_type='post'\n",
        "padding_type='post'\n",
        "oov_tok = \"<OOV>\"\n",
        "training_size=16000\n",
        "test_portion=.1\n",
        "\n",
        "corpus = []\n"
      ],
      "execution_count": 40,
      "outputs": []
    },
    {
      "cell_type": "code",
      "metadata": {
        "colab": {
          "base_uri": "https://localhost:8080/"
        },
        "id": "bM0l_dORKqE0",
        "outputId": "374fda04-ff9f-40ce-ab6c-53621ff568d2"
      },
      "source": [
        "# Note that I cleaned the Stanford dataset to remove LATIN1 encoding to make it easier for Python CSV reader\n",
        "# You can do that yourself with:\n",
        "# iconv -f LATIN1 -t UTF8 training.1600000.processed.noemoticon.csv -o training_cleaned.csv\n",
        "# I then hosted it on my site to make it easier to use in this notebook\n",
        "\n",
        "!wget --no-check-certificate \\\n",
        "    https://storage.googleapis.com/laurencemoroney-blog.appspot.com/training_cleaned.csv \\\n",
        "    -O /tmp/training_cleaned.csv\n",
        "\n",
        "num_sentences = 0\n",
        "\n",
        "with open(\"/tmp/training_cleaned.csv\") as csvfile:\n",
        "    reader = csv.reader(csvfile, delimiter=',')\n",
        "    for row in reader:\n",
        "        list_item=[]\n",
        "        list_item.append(row[5])\n",
        "        label=row[0]\n",
        "        if label=='0':\n",
        "            list_item.append(0)\n",
        "        else:\n",
        "            list_item.append(1)\n",
        "      \n",
        "      # Your Code here. Create list items where the first item is the text, found in row[5], and the second is the label. Note that the label is a '0' or a '4' in the text. When it's the former, make\n",
        "      # your label to be 0, otherwise 1. Keep a count of the number of sentences in num_sentences\n",
        "        # YOUR CODE HERE\n",
        "        num_sentences = num_sentences + 1\n",
        "        corpus.append(list_item)\n"
      ],
      "execution_count": 41,
      "outputs": [
        {
          "output_type": "stream",
          "text": [
            "--2021-01-26 03:55:43--  https://storage.googleapis.com/laurencemoroney-blog.appspot.com/training_cleaned.csv\n",
            "Resolving storage.googleapis.com (storage.googleapis.com)... 172.217.12.240, 172.253.62.128, 172.253.115.128, ...\n",
            "Connecting to storage.googleapis.com (storage.googleapis.com)|172.217.12.240|:443... connected.\n",
            "HTTP request sent, awaiting response... 200 OK\n",
            "Length: 238942690 (228M) [application/octet-stream]\n",
            "Saving to: ‘/tmp/training_cleaned.csv’\n",
            "\n",
            "/tmp/training_clean 100%[===================>] 227.87M   214MB/s    in 1.1s    \n",
            "\n",
            "2021-01-26 03:55:45 (214 MB/s) - ‘/tmp/training_cleaned.csv’ saved [238942690/238942690]\n",
            "\n"
          ],
          "name": "stdout"
        }
      ]
    },
    {
      "cell_type": "code",
      "metadata": {
        "colab": {
          "base_uri": "https://localhost:8080/"
        },
        "id": "3kxblBUjEUX-",
        "outputId": "573aeec7-7326-4ed1-facc-a046ee61f9e4"
      },
      "source": [
        "print(num_sentences)\n",
        "print(len(corpus))\n",
        "print(corpus[1])\n",
        "\n",
        "# Expected Output:\n",
        "# 1600000\n",
        "# 1600000\n",
        "# [\"is upset that he can't update his Facebook by texting it... and might cry as a result  School today also. Blah!\", 0]"
      ],
      "execution_count": 42,
      "outputs": [
        {
          "output_type": "stream",
          "text": [
            "1600000\n",
            "1600000\n",
            "[\"is upset that he can't update his Facebook by texting it... and might cry as a result  School today also. Blah!\", 0]\n"
          ],
          "name": "stdout"
        }
      ]
    },
    {
      "cell_type": "code",
      "metadata": {
        "id": "ohOGz24lsNAD"
      },
      "source": [
        "sentences=[]\n",
        "labels=[]\n",
        "random.shuffle(corpus)\n",
        "for x in range(training_size):\n",
        "    sentences.append(corpus[x][0])\n",
        "    labels.append(corpus[x][1])\n",
        "\n",
        "\n",
        "tokenizer = Tokenizer()\n",
        "tokenizer.fit_on_texts(sentences)\n",
        "\n",
        "word_index = tokenizer.word_index\n",
        "vocab_size=len(word_index)\n",
        "\n",
        "sequences = tokenizer.texts_to_sequences(sentences)\n",
        "padded = pad_sequences(sequences=sequences, padding=padding_type, truncating=trunc_type, maxlen=max_length)\n",
        "\n",
        "split = int(test_portion * training_size)\n",
        "\n",
        "test_sequences = padded[0:split]\n",
        "training_sequences = padded[split:training_size]\n",
        "test_labels = labels[0:split]\n",
        "training_labels = labels[split:training_size]"
      ],
      "execution_count": 43,
      "outputs": []
    },
    {
      "cell_type": "code",
      "metadata": {
        "colab": {
          "base_uri": "https://localhost:8080/"
        },
        "id": "gIrtRem1En3N",
        "outputId": "e5fa9d59-bf72-403a-fdc5-188d67b0760d"
      },
      "source": [
        "print(vocab_size)\n",
        "print(word_index['i'])\n",
        "# Expected Output\n",
        "# 138858\n",
        "# 1"
      ],
      "execution_count": 44,
      "outputs": [
        {
          "output_type": "stream",
          "text": [
            "26539\n",
            "1\n"
          ],
          "name": "stdout"
        }
      ]
    },
    {
      "cell_type": "code",
      "metadata": {
        "colab": {
          "base_uri": "https://localhost:8080/"
        },
        "id": "C1zdgJkusRh0",
        "outputId": "065a3324-4e3c-4bf6-98ac-6e0387b6f52e"
      },
      "source": [
        "# Note this is the 100 dimension version of GloVe from Stanford\n",
        "# I unzipped and hosted it on my site to make this notebook easier\n",
        "!wget --no-check-certificate \\\n",
        "    https://storage.googleapis.com/laurencemoroney-blog.appspot.com/glove.6B.100d.txt \\\n",
        "    -O /tmp/glove.6B.100d.txt\n",
        "embeddings_index = {};\n",
        "with open('/tmp/glove.6B.100d.txt') as f:\n",
        "    for line in f:\n",
        "        values = line.split();\n",
        "        word = values[0];\n",
        "        coefs = np.asarray(values[1:], dtype='float32');\n",
        "        embeddings_index[word] = coefs;\n",
        "\n",
        "embeddings_matrix = np.zeros((vocab_size+1, embedding_dim));\n",
        "for word, i in word_index.items():\n",
        "    embedding_vector = embeddings_index.get(word);\n",
        "    if embedding_vector is not None:\n",
        "        embeddings_matrix[i] = embedding_vector;"
      ],
      "execution_count": 45,
      "outputs": [
        {
          "output_type": "stream",
          "text": [
            "--2021-01-26 03:56:04--  https://storage.googleapis.com/laurencemoroney-blog.appspot.com/glove.6B.100d.txt\n",
            "Resolving storage.googleapis.com (storage.googleapis.com)... 172.217.13.80, 172.217.13.240, 172.217.15.80, ...\n",
            "Connecting to storage.googleapis.com (storage.googleapis.com)|172.217.13.80|:443... connected.\n",
            "HTTP request sent, awaiting response... 200 OK\n",
            "Length: 347116733 (331M) [text/plain]\n",
            "Saving to: ‘/tmp/glove.6B.100d.txt’\n",
            "\n",
            "/tmp/glove.6B.100d. 100%[===================>] 331.04M   160MB/s    in 2.1s    \n",
            "\n",
            "2021-01-26 03:56:06 (160 MB/s) - ‘/tmp/glove.6B.100d.txt’ saved [347116733/347116733]\n",
            "\n"
          ],
          "name": "stdout"
        }
      ]
    },
    {
      "cell_type": "code",
      "metadata": {
        "colab": {
          "base_uri": "https://localhost:8080/"
        },
        "id": "71NLk_lpFLNt",
        "outputId": "b4149d4a-de95-4abf-9bc7-a689d9ca63c3"
      },
      "source": [
        "print(len(embeddings_matrix))\n",
        "# Expected Output\n",
        "# 138859"
      ],
      "execution_count": 46,
      "outputs": [
        {
          "output_type": "stream",
          "text": [
            "26540\n"
          ],
          "name": "stdout"
        }
      ]
    },
    {
      "cell_type": "code",
      "metadata": {
        "colab": {
          "base_uri": "https://localhost:8080/"
        },
        "id": "iKKvbuEBOGFz",
        "outputId": "f89c57d4-887a-4a93-8d65-3c6ae723289c"
      },
      "source": [
        "model = tf.keras.Sequential([\n",
        "    tf.keras.layers.Embedding(vocab_size+1, embedding_dim, input_length=max_length, weights=[embeddings_matrix], trainable=False),\n",
        "    tf.keras.layers.Dropout(0.2),\n",
        "    tf.keras.layers.Conv1D(64, 5, activation='relu'),\n",
        "    tf.keras.layers.MaxPooling1D(pool_size=4),\n",
        "    tf.keras.layers.LSTM(64),\n",
        "    tf.keras.layers.Dense(1, activation='sigmoid')\n",
        "])\n",
        "model.compile(loss=\"binary_crossentropy\", optimizer= \"adam\", metrics=[\"accuracy\"])\n",
        "model.summary()\n",
        "\n",
        "num_epochs = 50\n",
        "history = model.fit(training_sequences, np.array(training_labels), epochs=num_epochs, validation_data=(test_sequences, np.array(test_labels)), verbose=2)\n",
        "\n",
        "print(\"Training Complete\")\n"
      ],
      "execution_count": 59,
      "outputs": [
        {
          "output_type": "stream",
          "text": [
            "Model: \"sequential_14\"\n",
            "_________________________________________________________________\n",
            "Layer (type)                 Output Shape              Param #   \n",
            "=================================================================\n",
            "embedding_14 (Embedding)     (None, 16, 100)           2654000   \n",
            "_________________________________________________________________\n",
            "dropout_4 (Dropout)          (None, 16, 100)           0         \n",
            "_________________________________________________________________\n",
            "conv1d_7 (Conv1D)            (None, 12, 64)            32064     \n",
            "_________________________________________________________________\n",
            "max_pooling1d_3 (MaxPooling1 (None, 3, 64)             0         \n",
            "_________________________________________________________________\n",
            "lstm_16 (LSTM)               (None, 64)                33024     \n",
            "_________________________________________________________________\n",
            "dense_25 (Dense)             (None, 1)                 65        \n",
            "=================================================================\n",
            "Total params: 2,719,153\n",
            "Trainable params: 65,153\n",
            "Non-trainable params: 2,654,000\n",
            "_________________________________________________________________\n",
            "Epoch 1/50\n",
            "450/450 - 3s - loss: 0.6372 - accuracy: 0.6320 - val_loss: 0.6082 - val_accuracy: 0.6637\n",
            "Epoch 2/50\n",
            "450/450 - 1s - loss: 0.5702 - accuracy: 0.7004 - val_loss: 0.5641 - val_accuracy: 0.7056\n",
            "Epoch 3/50\n",
            "450/450 - 1s - loss: 0.5339 - accuracy: 0.7308 - val_loss: 0.5584 - val_accuracy: 0.7156\n",
            "Epoch 4/50\n",
            "450/450 - 1s - loss: 0.5069 - accuracy: 0.7433 - val_loss: 0.5530 - val_accuracy: 0.7138\n",
            "Epoch 5/50\n",
            "450/450 - 1s - loss: 0.4767 - accuracy: 0.7675 - val_loss: 0.5615 - val_accuracy: 0.7125\n",
            "Epoch 6/50\n",
            "450/450 - 1s - loss: 0.4481 - accuracy: 0.7856 - val_loss: 0.5725 - val_accuracy: 0.7156\n",
            "Epoch 7/50\n",
            "450/450 - 1s - loss: 0.4230 - accuracy: 0.8010 - val_loss: 0.5892 - val_accuracy: 0.7106\n",
            "Epoch 8/50\n",
            "450/450 - 1s - loss: 0.3989 - accuracy: 0.8161 - val_loss: 0.6193 - val_accuracy: 0.7013\n",
            "Epoch 9/50\n",
            "450/450 - 1s - loss: 0.3912 - accuracy: 0.8176 - val_loss: 0.6118 - val_accuracy: 0.7069\n",
            "Epoch 10/50\n",
            "450/450 - 1s - loss: 0.3571 - accuracy: 0.8386 - val_loss: 0.6300 - val_accuracy: 0.7013\n",
            "Epoch 11/50\n",
            "450/450 - 1s - loss: 0.3512 - accuracy: 0.8400 - val_loss: 0.6416 - val_accuracy: 0.7075\n",
            "Epoch 12/50\n",
            "450/450 - 1s - loss: 0.3293 - accuracy: 0.8534 - val_loss: 0.6791 - val_accuracy: 0.7000\n",
            "Epoch 13/50\n",
            "450/450 - 1s - loss: 0.3171 - accuracy: 0.8600 - val_loss: 0.6521 - val_accuracy: 0.7081\n",
            "Epoch 14/50\n",
            "450/450 - 1s - loss: 0.3092 - accuracy: 0.8635 - val_loss: 0.6993 - val_accuracy: 0.7000\n",
            "Epoch 15/50\n",
            "450/450 - 1s - loss: 0.2942 - accuracy: 0.8708 - val_loss: 0.7376 - val_accuracy: 0.6975\n",
            "Epoch 16/50\n",
            "450/450 - 1s - loss: 0.2839 - accuracy: 0.8754 - val_loss: 0.7215 - val_accuracy: 0.6981\n",
            "Epoch 17/50\n",
            "450/450 - 1s - loss: 0.2739 - accuracy: 0.8815 - val_loss: 0.7275 - val_accuracy: 0.6819\n",
            "Epoch 18/50\n",
            "450/450 - 1s - loss: 0.2562 - accuracy: 0.8910 - val_loss: 0.8100 - val_accuracy: 0.6750\n",
            "Epoch 19/50\n",
            "450/450 - 1s - loss: 0.2519 - accuracy: 0.8926 - val_loss: 0.8007 - val_accuracy: 0.6719\n",
            "Epoch 20/50\n",
            "450/450 - 1s - loss: 0.2511 - accuracy: 0.8940 - val_loss: 0.7737 - val_accuracy: 0.6737\n",
            "Epoch 21/50\n",
            "450/450 - 1s - loss: 0.2482 - accuracy: 0.8937 - val_loss: 0.8041 - val_accuracy: 0.6731\n",
            "Epoch 22/50\n",
            "450/450 - 1s - loss: 0.2343 - accuracy: 0.9013 - val_loss: 0.8170 - val_accuracy: 0.7000\n",
            "Epoch 23/50\n",
            "450/450 - 1s - loss: 0.2325 - accuracy: 0.9010 - val_loss: 0.8220 - val_accuracy: 0.6913\n",
            "Epoch 24/50\n",
            "450/450 - 1s - loss: 0.2257 - accuracy: 0.9042 - val_loss: 0.8448 - val_accuracy: 0.6900\n",
            "Epoch 25/50\n",
            "450/450 - 1s - loss: 0.2224 - accuracy: 0.9062 - val_loss: 0.8594 - val_accuracy: 0.6700\n",
            "Epoch 26/50\n",
            "450/450 - 1s - loss: 0.2158 - accuracy: 0.9088 - val_loss: 0.8608 - val_accuracy: 0.6762\n",
            "Epoch 27/50\n",
            "450/450 - 1s - loss: 0.2076 - accuracy: 0.9137 - val_loss: 0.8734 - val_accuracy: 0.6806\n",
            "Epoch 28/50\n",
            "450/450 - 1s - loss: 0.2011 - accuracy: 0.9160 - val_loss: 0.8698 - val_accuracy: 0.6800\n",
            "Epoch 29/50\n",
            "450/450 - 1s - loss: 0.2053 - accuracy: 0.9150 - val_loss: 0.9817 - val_accuracy: 0.6719\n",
            "Epoch 30/50\n",
            "450/450 - 1s - loss: 0.1981 - accuracy: 0.9188 - val_loss: 0.9104 - val_accuracy: 0.6812\n",
            "Epoch 31/50\n",
            "450/450 - 1s - loss: 0.1890 - accuracy: 0.9220 - val_loss: 0.9157 - val_accuracy: 0.6731\n",
            "Epoch 32/50\n",
            "450/450 - 1s - loss: 0.1828 - accuracy: 0.9239 - val_loss: 0.9510 - val_accuracy: 0.6781\n",
            "Epoch 33/50\n",
            "450/450 - 1s - loss: 0.1838 - accuracy: 0.9242 - val_loss: 0.9635 - val_accuracy: 0.6737\n",
            "Epoch 34/50\n",
            "450/450 - 1s - loss: 0.1753 - accuracy: 0.9282 - val_loss: 0.9632 - val_accuracy: 0.6894\n",
            "Epoch 35/50\n",
            "450/450 - 1s - loss: 0.1813 - accuracy: 0.9272 - val_loss: 0.9568 - val_accuracy: 0.6775\n",
            "Epoch 36/50\n",
            "450/450 - 1s - loss: 0.1728 - accuracy: 0.9299 - val_loss: 0.9429 - val_accuracy: 0.6625\n",
            "Epoch 37/50\n",
            "450/450 - 1s - loss: 0.1756 - accuracy: 0.9291 - val_loss: 0.9471 - val_accuracy: 0.6744\n",
            "Epoch 38/50\n",
            "450/450 - 1s - loss: 0.1742 - accuracy: 0.9304 - val_loss: 0.9383 - val_accuracy: 0.6731\n",
            "Epoch 39/50\n",
            "450/450 - 1s - loss: 0.1646 - accuracy: 0.9335 - val_loss: 1.0151 - val_accuracy: 0.6787\n",
            "Epoch 40/50\n",
            "450/450 - 1s - loss: 0.1613 - accuracy: 0.9356 - val_loss: 1.0450 - val_accuracy: 0.6756\n",
            "Epoch 41/50\n",
            "450/450 - 1s - loss: 0.1597 - accuracy: 0.9349 - val_loss: 1.0483 - val_accuracy: 0.6744\n",
            "Epoch 42/50\n",
            "450/450 - 1s - loss: 0.1594 - accuracy: 0.9367 - val_loss: 1.0448 - val_accuracy: 0.6831\n",
            "Epoch 43/50\n",
            "450/450 - 1s - loss: 0.1598 - accuracy: 0.9353 - val_loss: 1.0442 - val_accuracy: 0.6837\n",
            "Epoch 44/50\n",
            "450/450 - 1s - loss: 0.1527 - accuracy: 0.9374 - val_loss: 1.0623 - val_accuracy: 0.6787\n",
            "Epoch 45/50\n",
            "450/450 - 1s - loss: 0.1516 - accuracy: 0.9383 - val_loss: 1.0436 - val_accuracy: 0.6850\n",
            "Epoch 46/50\n",
            "450/450 - 1s - loss: 0.1506 - accuracy: 0.9390 - val_loss: 1.1046 - val_accuracy: 0.6706\n",
            "Epoch 47/50\n",
            "450/450 - 1s - loss: 0.1497 - accuracy: 0.9408 - val_loss: 1.1218 - val_accuracy: 0.6794\n",
            "Epoch 48/50\n",
            "450/450 - 1s - loss: 0.1400 - accuracy: 0.9435 - val_loss: 1.0842 - val_accuracy: 0.6787\n",
            "Epoch 49/50\n",
            "450/450 - 1s - loss: 0.1416 - accuracy: 0.9446 - val_loss: 1.0619 - val_accuracy: 0.6762\n",
            "Epoch 50/50\n",
            "450/450 - 1s - loss: 0.1419 - accuracy: 0.9431 - val_loss: 1.0511 - val_accuracy: 0.6794\n",
            "Training Complete\n"
          ],
          "name": "stdout"
        }
      ]
    },
    {
      "cell_type": "code",
      "metadata": {
        "colab": {
          "base_uri": "https://localhost:8080/",
          "height": 607
        },
        "id": "qxju4ItJKO8F",
        "outputId": "bd065643-67e9-4e8b-dc93-0f3ca8fa05e4"
      },
      "source": [
        "import matplotlib.image  as mpimg\n",
        "import matplotlib.pyplot as plt\n",
        "\n",
        "#-----------------------------------------------------------\n",
        "# Retrieve a list of list results on training and test data\n",
        "# sets for each training epoch\n",
        "#-----------------------------------------------------------\n",
        "acc=history.history['accuracy']\n",
        "val_acc=history.history['val_accuracy']\n",
        "loss=history.history['loss']\n",
        "val_loss=history.history['val_loss']\n",
        "\n",
        "epochs=range(len(acc)) # Get number of epochs\n",
        "\n",
        "#------------------------------------------------\n",
        "# Plot training and validation accuracy per epoch\n",
        "#------------------------------------------------\n",
        "plt.plot(epochs, acc, 'r')\n",
        "plt.plot(epochs, val_acc, 'b')\n",
        "plt.title('Training and validation accuracy')\n",
        "plt.xlabel(\"Epochs\")\n",
        "plt.ylabel(\"Accuracy\")\n",
        "plt.legend([\"Accuracy\", \"Validation Accuracy\"])\n",
        "\n",
        "plt.figure()\n",
        "\n",
        "#------------------------------------------------\n",
        "# Plot training and validation loss per epoch\n",
        "#------------------------------------------------\n",
        "plt.plot(epochs, loss, 'r')\n",
        "plt.plot(epochs, val_loss, 'b')\n",
        "plt.title('Training and validation loss')\n",
        "plt.xlabel(\"Epochs\")\n",
        "plt.ylabel(\"Loss\")\n",
        "plt.legend([\"Loss\", \"Validation Loss\"])\n",
        "\n",
        "plt.figure()\n",
        "\n",
        "\n",
        "# Expected Output\n",
        "# A chart where the validation loss does not increase sharply!"
      ],
      "execution_count": 60,
      "outputs": [
        {
          "output_type": "execute_result",
          "data": {
            "text/plain": [
              "<Figure size 432x288 with 0 Axes>"
            ]
          },
          "metadata": {
            "tags": []
          },
          "execution_count": 60
        },
        {
          "output_type": "display_data",
          "data": {
            "image/png": "[encoded data removed]",
            "text/plain": [
              "<Figure size 432x288 with 1 Axes>"
            ]
          },
          "metadata": {
            "tags": [],
            "needs_background": "light"
          }
        },
        {
          "output_type": "display_data",
          "data": {
            "image/png": "[encoded data removed]",
            "text/plain": [
              "<Figure size 432x288 with 1 Axes>"
            ]
          },
          "metadata": {
            "tags": [],
            "needs_background": "light"
          }
        },
        {
          "output_type": "display_data",
          "data": {
            "text/plain": [
              "<Figure size 432x288 with 0 Axes>"
            ]
          },
          "metadata": {
            "tags": []
          }
        }
      ]
    }
  ]
}