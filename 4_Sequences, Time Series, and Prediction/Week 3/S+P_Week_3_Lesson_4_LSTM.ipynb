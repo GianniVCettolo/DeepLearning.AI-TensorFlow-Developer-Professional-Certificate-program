{
  "nbformat": 4,
  "nbformat_minor": 0,
  "metadata": {
    "colab": {
      "name": "S+P Week 3 Lesson 4 - LSTM.ipynb",
      "provenance": [],
      "collapsed_sections": [],
      "toc_visible": true
    },
    "kernelspec": {
      "display_name": "Python 3",
      "name": "python3"
    }
  },
  "cells": [
    {
      "cell_type": "code",
      "metadata": {
        "id": "zX4Kg8DUTKWO"
      },
      "source": [
        "#@title Licensed under the Apache License, Version 2.0 (the \"License\");\n",
        "# you may not use this file except in compliance with the License.\n",
        "# You may obtain a copy of the License at\n",
        "#\n",
        "# https://www.apache.org/licenses/LICENSE-2.0\n",
        "#\n",
        "# Unless required by applicable law or agreed to in writing, software\n",
        "# distributed under the License is distributed on an \"AS IS\" BASIS,\n",
        "# WITHOUT WARRANTIES OR CONDITIONS OF ANY KIND, either express or implied.\n",
        "# See the License for the specific language governing permissions and\n",
        "# limitations under the License."
      ],
      "execution_count": null,
      "outputs": []
    },
    {
      "cell_type": "code",
      "metadata": {
        "colab": {
          "base_uri": "https://localhost:8080/"
        },
        "id": "D1J15Vh_1Jih",
        "outputId": "2aaeadb9-81ff-4518-f9ab-b9ee0964995d"
      },
      "source": [
        "!pip install tf-nightly-2.0-preview\n"
      ],
      "execution_count": 1,
      "outputs": [
        {
          "output_type": "stream",
          "text": [
            "\u001b[31mERROR: Could not find a version that satisfies the requirement tf-nightly-2.0-preview (from versions: none)\u001b[0m\n",
            "\u001b[31mERROR: No matching distribution found for tf-nightly-2.0-preview\u001b[0m\n"
          ],
          "name": "stdout"
        }
      ]
    },
    {
      "cell_type": "code",
      "metadata": {
        "colab": {
          "base_uri": "https://localhost:8080/"
        },
        "id": "BOjujz601HcS",
        "outputId": "8d2e1ba6-42a9-48df-83f4-a0e990312f83"
      },
      "source": [
        "import tensorflow as tf\n",
        "import numpy as np\n",
        "import matplotlib.pyplot as plt\n",
        "print(tf.__version__)"
      ],
      "execution_count": 2,
      "outputs": [
        {
          "output_type": "stream",
          "text": [
            "2.4.0\n"
          ],
          "name": "stdout"
        }
      ]
    },
    {
      "cell_type": "code",
      "metadata": {
        "id": "Zswl7jRtGzkk"
      },
      "source": [
        "def plot_series(time, series, format=\"-\", start=0, end=None):\n",
        "    plt.plot(time[start:end], series[start:end], format)\n",
        "    plt.xlabel(\"Time\")\n",
        "    plt.ylabel(\"Value\")\n",
        "    plt.grid(True)\n",
        "\n",
        "def trend(time, slope=0):\n",
        "    return slope * time\n",
        "\n",
        "def seasonal_pattern(season_time):\n",
        "    \"\"\"Just an arbitrary pattern, you can change it if you wish\"\"\"\n",
        "    return np.where(season_time < 0.4,\n",
        "                    np.cos(season_time * 2 * np.pi),\n",
        "                    1 / np.exp(3 * season_time))\n",
        "\n",
        "def seasonality(time, period, amplitude=1, phase=0):\n",
        "    \"\"\"Repeats the same pattern at each period\"\"\"\n",
        "    season_time = ((time + phase) % period) / period\n",
        "    return amplitude * seasonal_pattern(season_time)\n",
        "\n",
        "def noise(time, noise_level=1, seed=None):\n",
        "    rnd = np.random.RandomState(seed)\n",
        "    return rnd.randn(len(time)) * noise_level\n",
        "\n",
        "time = np.arange(4 * 365 + 1, dtype=\"float32\")\n",
        "baseline = 10\n",
        "series = trend(time, 0.1)  \n",
        "baseline = 10\n",
        "amplitude = 40\n",
        "slope = 0.05\n",
        "noise_level = 5\n",
        "\n",
        "# Create the series\n",
        "series = baseline + trend(time, slope) + seasonality(time, period=365, amplitude=amplitude)\n",
        "# Update with noise\n",
        "series += noise(time, noise_level, seed=42)\n",
        "\n",
        "split_time = 1000\n",
        "time_train = time[:split_time]\n",
        "x_train = series[:split_time]\n",
        "time_valid = time[split_time:]\n",
        "x_valid = series[split_time:]\n",
        "\n",
        "window_size = 20\n",
        "batch_size = 32\n",
        "shuffle_buffer_size = 1000"
      ],
      "execution_count": 3,
      "outputs": []
    },
    {
      "cell_type": "code",
      "metadata": {
        "id": "4sTTIOCbyShY"
      },
      "source": [
        "def windowed_dataset(series, window_size, batch_size, shuffle_buffer):\n",
        "  dataset = tf.data.Dataset.from_tensor_slices(series)\n",
        "  dataset = dataset.window(window_size + 1, shift=1, drop_remainder=True)\n",
        "  dataset = dataset.flat_map(lambda window: window.batch(window_size + 1))\n",
        "  dataset = dataset.shuffle(shuffle_buffer).map(lambda window: (window[:-1], window[-1]))\n",
        "  dataset = dataset.batch(batch_size).prefetch(1)\n",
        "  return dataset"
      ],
      "execution_count": 4,
      "outputs": []
    },
    {
      "cell_type": "code",
      "metadata": {
        "colab": {
          "base_uri": "https://localhost:8080/"
        },
        "id": "A1Hl39rklkLm",
        "outputId": "8f05ddba-d463-4e95-c35b-16c3187aace1"
      },
      "source": [
        "tf.keras.backend.clear_session()\n",
        "tf.random.set_seed(51)\n",
        "np.random.seed(51)\n",
        "\n",
        "tf.keras.backend.clear_session()\n",
        "dataset = windowed_dataset(x_train, window_size, batch_size, shuffle_buffer_size)\n",
        "\n",
        "model = tf.keras.models.Sequential([\n",
        "  tf.keras.layers.Lambda(lambda x: tf.expand_dims(x, axis=-1),\n",
        "                      input_shape=[None]),\n",
        "  tf.keras.layers.Bidirectional(tf.keras.layers.LSTM(32, return_sequences=True)),\n",
        "  tf.keras.layers.Bidirectional(tf.keras.layers.LSTM(32)),\n",
        "  tf.keras.layers.Dense(1),\n",
        "  tf.keras.layers.Lambda(lambda x: x * 100.0)\n",
        "])\n",
        "\n",
        "lr_schedule = tf.keras.callbacks.LearningRateScheduler(\n",
        "    lambda epoch: 1e-8 * 10**(epoch / 20))\n",
        "optimizer = tf.keras.optimizers.Adam(lr=1e-8)\n",
        "model.compile(loss=tf.keras.losses.Huber(),\n",
        "              optimizer=optimizer,\n",
        "              metrics=[\"mae\"])\n",
        "history = model.fit(dataset, epochs=100, callbacks=[lr_schedule])"
      ],
      "execution_count": 6,
      "outputs": [
        {
          "output_type": "stream",
          "text": [
            "Epoch 1/100\n",
            "31/31 [==============================] - 7s 28ms/step - loss: 22.0125 - mae: 22.5078\n",
            "Epoch 2/100\n",
            "31/31 [==============================] - 1s 25ms/step - loss: 21.4622 - mae: 21.9573\n",
            "Epoch 3/100\n",
            "31/31 [==============================] - 1s 25ms/step - loss: 20.7430 - mae: 21.2377\n",
            "Epoch 4/100\n",
            "31/31 [==============================] - 1s 25ms/step - loss: 21.8462 - mae: 22.3407\n",
            "Epoch 5/100\n",
            "31/31 [==============================] - 1s 26ms/step - loss: 22.0474 - mae: 22.5422\n",
            "Epoch 6/100\n",
            "31/31 [==============================] - 1s 24ms/step - loss: 21.9325 - mae: 22.4275\n",
            "Epoch 7/100\n",
            "31/31 [==============================] - 1s 26ms/step - loss: 21.2636 - mae: 21.7587\n",
            "Epoch 8/100\n",
            "31/31 [==============================] - 1s 24ms/step - loss: 21.3464 - mae: 21.8394\n",
            "Epoch 9/100\n",
            "31/31 [==============================] - 1s 27ms/step - loss: 21.9948 - mae: 22.4905\n",
            "Epoch 10/100\n",
            "31/31 [==============================] - 1s 25ms/step - loss: 21.6314 - mae: 22.1266\n",
            "Epoch 11/100\n",
            "31/31 [==============================] - 1s 26ms/step - loss: 21.4588 - mae: 21.9536\n",
            "Epoch 12/100\n",
            "31/31 [==============================] - 1s 26ms/step - loss: 21.1726 - mae: 21.6642\n",
            "Epoch 13/100\n",
            "31/31 [==============================] - 1s 26ms/step - loss: 21.7072 - mae: 22.2036\n",
            "Epoch 14/100\n",
            "31/31 [==============================] - 1s 25ms/step - loss: 21.9698 - mae: 22.4643\n",
            "Epoch 15/100\n",
            "31/31 [==============================] - 1s 25ms/step - loss: 22.4479 - mae: 22.9427\n",
            "Epoch 16/100\n",
            "31/31 [==============================] - 1s 26ms/step - loss: 21.8551 - mae: 22.3499\n",
            "Epoch 17/100\n",
            "31/31 [==============================] - 1s 25ms/step - loss: 21.4714 - mae: 21.9663\n",
            "Epoch 18/100\n",
            "31/31 [==============================] - 1s 25ms/step - loss: 21.1426 - mae: 21.6368\n",
            "Epoch 19/100\n",
            "31/31 [==============================] - 1s 25ms/step - loss: 21.6535 - mae: 22.1466\n",
            "Epoch 20/100\n",
            "31/31 [==============================] - 1s 25ms/step - loss: 21.4042 - mae: 21.8979\n",
            "Epoch 21/100\n",
            "31/31 [==============================] - 1s 26ms/step - loss: 21.5913 - mae: 22.0839\n",
            "Epoch 22/100\n",
            "31/31 [==============================] - 1s 25ms/step - loss: 20.8334 - mae: 21.3257\n",
            "Epoch 23/100\n",
            "31/31 [==============================] - 1s 25ms/step - loss: 20.5331 - mae: 21.0255\n",
            "Epoch 24/100\n",
            "31/31 [==============================] - 1s 26ms/step - loss: 20.6021 - mae: 21.0926\n",
            "Epoch 25/100\n",
            "31/31 [==============================] - 1s 25ms/step - loss: 21.9498 - mae: 22.4428\n",
            "Epoch 26/100\n",
            "31/31 [==============================] - 1s 26ms/step - loss: 20.1728 - mae: 20.6630\n",
            "Epoch 27/100\n",
            "31/31 [==============================] - 1s 25ms/step - loss: 21.2239 - mae: 21.7162\n",
            "Epoch 28/100\n",
            "31/31 [==============================] - 1s 26ms/step - loss: 20.7705 - mae: 21.2633\n",
            "Epoch 29/100\n",
            "31/31 [==============================] - 1s 25ms/step - loss: 20.1222 - mae: 20.6150\n",
            "Epoch 30/100\n",
            "31/31 [==============================] - 1s 25ms/step - loss: 21.8348 - mae: 22.3283\n",
            "Epoch 31/100\n",
            "31/31 [==============================] - 1s 25ms/step - loss: 20.0619 - mae: 20.5559\n",
            "Epoch 32/100\n",
            "31/31 [==============================] - 1s 26ms/step - loss: 20.3423 - mae: 20.8353\n",
            "Epoch 33/100\n",
            "31/31 [==============================] - 1s 26ms/step - loss: 21.0676 - mae: 21.5595\n",
            "Epoch 34/100\n",
            "31/31 [==============================] - 1s 26ms/step - loss: 19.5515 - mae: 20.0443\n",
            "Epoch 35/100\n",
            "31/31 [==============================] - 1s 25ms/step - loss: 20.3637 - mae: 20.8537\n",
            "Epoch 36/100\n",
            "31/31 [==============================] - 1s 27ms/step - loss: 19.3695 - mae: 19.8609\n",
            "Epoch 37/100\n",
            "31/31 [==============================] - 1s 25ms/step - loss: 19.7074 - mae: 20.2011\n",
            "Epoch 38/100\n",
            "31/31 [==============================] - 1s 26ms/step - loss: 19.7789 - mae: 20.2737\n",
            "Epoch 39/100\n",
            "31/31 [==============================] - 1s 24ms/step - loss: 19.2044 - mae: 19.7002\n",
            "Epoch 40/100\n",
            "31/31 [==============================] - 1s 25ms/step - loss: 18.3462 - mae: 18.8376\n",
            "Epoch 41/100\n",
            "31/31 [==============================] - 1s 25ms/step - loss: 19.0762 - mae: 19.5649\n",
            "Epoch 42/100\n",
            "31/31 [==============================] - 1s 25ms/step - loss: 18.4216 - mae: 18.9113\n",
            "Epoch 43/100\n",
            "31/31 [==============================] - 1s 25ms/step - loss: 18.2326 - mae: 18.7276\n",
            "Epoch 44/100\n",
            "31/31 [==============================] - 1s 27ms/step - loss: 18.0429 - mae: 18.5349\n",
            "Epoch 45/100\n",
            "31/31 [==============================] - 1s 25ms/step - loss: 18.1017 - mae: 18.5940\n",
            "Epoch 46/100\n",
            "31/31 [==============================] - 1s 27ms/step - loss: 17.8441 - mae: 18.3386\n",
            "Epoch 47/100\n",
            "31/31 [==============================] - 1s 25ms/step - loss: 17.7865 - mae: 18.2804\n",
            "Epoch 48/100\n",
            "31/31 [==============================] - 1s 27ms/step - loss: 16.9337 - mae: 17.4255\n",
            "Epoch 49/100\n",
            "31/31 [==============================] - 1s 26ms/step - loss: 16.5242 - mae: 17.0212\n",
            "Epoch 50/100\n",
            "31/31 [==============================] - 1s 25ms/step - loss: 16.5644 - mae: 17.0603\n",
            "Epoch 51/100\n",
            "31/31 [==============================] - 1s 25ms/step - loss: 16.1568 - mae: 16.6531\n",
            "Epoch 52/100\n",
            "31/31 [==============================] - 1s 25ms/step - loss: 15.1995 - mae: 15.6937\n",
            "Epoch 53/100\n",
            "31/31 [==============================] - 1s 27ms/step - loss: 15.2450 - mae: 15.7403\n",
            "Epoch 54/100\n",
            "31/31 [==============================] - 1s 25ms/step - loss: 15.1132 - mae: 15.6092\n",
            "Epoch 55/100\n",
            "31/31 [==============================] - 1s 25ms/step - loss: 14.3197 - mae: 14.8150\n",
            "Epoch 56/100\n",
            "31/31 [==============================] - 1s 27ms/step - loss: 13.7052 - mae: 14.1975\n",
            "Epoch 57/100\n",
            "31/31 [==============================] - 1s 25ms/step - loss: 13.6237 - mae: 14.1170\n",
            "Epoch 58/100\n",
            "31/31 [==============================] - 1s 25ms/step - loss: 13.4378 - mae: 13.9307\n",
            "Epoch 59/100\n",
            "31/31 [==============================] - 1s 27ms/step - loss: 12.3327 - mae: 12.8263\n",
            "Epoch 60/100\n",
            "31/31 [==============================] - 1s 25ms/step - loss: 11.9449 - mae: 12.4357\n",
            "Epoch 61/100\n",
            "31/31 [==============================] - 1s 28ms/step - loss: 11.6091 - mae: 12.1014\n",
            "Epoch 62/100\n",
            "31/31 [==============================] - 1s 26ms/step - loss: 11.0845 - mae: 11.5757\n",
            "Epoch 63/100\n",
            "31/31 [==============================] - 1s 28ms/step - loss: 10.0802 - mae: 10.5639\n",
            "Epoch 64/100\n",
            "31/31 [==============================] - 1s 26ms/step - loss: 9.9983 - mae: 10.4841\n",
            "Epoch 65/100\n",
            "31/31 [==============================] - 1s 26ms/step - loss: 9.2631 - mae: 9.7489\n",
            "Epoch 66/100\n",
            "31/31 [==============================] - 1s 25ms/step - loss: 8.5735 - mae: 9.0614\n",
            "Epoch 67/100\n",
            "31/31 [==============================] - 1s 27ms/step - loss: 8.3830 - mae: 8.8626\n",
            "Epoch 68/100\n",
            "31/31 [==============================] - 1s 28ms/step - loss: 7.6092 - mae: 8.0898\n",
            "Epoch 69/100\n",
            "31/31 [==============================] - 1s 25ms/step - loss: 7.4692 - mae: 7.9552\n",
            "Epoch 70/100\n",
            "31/31 [==============================] - 1s 27ms/step - loss: 7.0135 - mae: 7.4992\n",
            "Epoch 71/100\n",
            "31/31 [==============================] - 1s 26ms/step - loss: 6.8328 - mae: 7.3195\n",
            "Epoch 72/100\n",
            "31/31 [==============================] - 1s 26ms/step - loss: 6.9931 - mae: 7.4782\n",
            "Epoch 73/100\n",
            "31/31 [==============================] - 1s 25ms/step - loss: 6.5971 - mae: 7.0804\n",
            "Epoch 74/100\n",
            "31/31 [==============================] - 1s 25ms/step - loss: 6.5053 - mae: 6.9911\n",
            "Epoch 75/100\n",
            "31/31 [==============================] - 1s 26ms/step - loss: 6.2927 - mae: 6.7747\n",
            "Epoch 76/100\n",
            "31/31 [==============================] - 1s 25ms/step - loss: 6.3203 - mae: 6.7962\n",
            "Epoch 77/100\n",
            "31/31 [==============================] - 1s 25ms/step - loss: 5.8334 - mae: 6.3165\n",
            "Epoch 78/100\n",
            "31/31 [==============================] - 1s 26ms/step - loss: 5.8260 - mae: 6.3074\n",
            "Epoch 79/100\n",
            "31/31 [==============================] - 1s 26ms/step - loss: 5.7587 - mae: 6.2388\n",
            "Epoch 80/100\n",
            "31/31 [==============================] - 1s 26ms/step - loss: 5.3559 - mae: 5.8371\n",
            "Epoch 81/100\n",
            "31/31 [==============================] - 1s 25ms/step - loss: 5.3652 - mae: 5.8462\n",
            "Epoch 82/100\n",
            "31/31 [==============================] - 1s 25ms/step - loss: 5.1343 - mae: 5.6093\n",
            "Epoch 83/100\n",
            "31/31 [==============================] - 1s 25ms/step - loss: 4.8193 - mae: 5.2997\n",
            "Epoch 84/100\n",
            "31/31 [==============================] - 1s 25ms/step - loss: 4.7900 - mae: 5.2675\n",
            "Epoch 85/100\n",
            "31/31 [==============================] - 1s 25ms/step - loss: 4.6933 - mae: 5.1721\n",
            "Epoch 86/100\n",
            "31/31 [==============================] - 1s 26ms/step - loss: 5.0932 - mae: 5.5719\n",
            "Epoch 87/100\n",
            "31/31 [==============================] - 1s 26ms/step - loss: 5.0497 - mae: 5.5249\n",
            "Epoch 88/100\n",
            "31/31 [==============================] - 1s 26ms/step - loss: 5.0498 - mae: 5.5336\n",
            "Epoch 89/100\n",
            "31/31 [==============================] - 1s 26ms/step - loss: 4.8204 - mae: 5.2922\n",
            "Epoch 90/100\n",
            "31/31 [==============================] - 1s 25ms/step - loss: 5.0089 - mae: 5.4874\n",
            "Epoch 91/100\n",
            "31/31 [==============================] - 1s 28ms/step - loss: 4.6695 - mae: 5.1442\n",
            "Epoch 92/100\n",
            "31/31 [==============================] - 1s 29ms/step - loss: 4.8266 - mae: 5.3007\n",
            "Epoch 93/100\n",
            "31/31 [==============================] - 1s 28ms/step - loss: 4.9996 - mae: 5.4750\n",
            "Epoch 94/100\n",
            "31/31 [==============================] - 1s 27ms/step - loss: 4.9356 - mae: 5.4186\n",
            "Epoch 95/100\n",
            "31/31 [==============================] - 1s 27ms/step - loss: 4.8234 - mae: 5.3012\n",
            "Epoch 96/100\n",
            "31/31 [==============================] - 1s 27ms/step - loss: 5.0520 - mae: 5.5323\n",
            "Epoch 97/100\n",
            "31/31 [==============================] - 1s 26ms/step - loss: 4.8331 - mae: 5.3124\n",
            "Epoch 98/100\n",
            "31/31 [==============================] - 1s 26ms/step - loss: 5.0604 - mae: 5.5403\n",
            "Epoch 99/100\n",
            "31/31 [==============================] - 1s 26ms/step - loss: 4.6858 - mae: 5.1679\n",
            "Epoch 100/100\n",
            "31/31 [==============================] - 1s 27ms/step - loss: 4.9846 - mae: 5.4662\n"
          ],
          "name": "stdout"
        }
      ]
    },
    {
      "cell_type": "code",
      "metadata": {
        "colab": {
          "base_uri": "https://localhost:8080/",
          "height": 291
        },
        "id": "AkBsrsXMzoWR",
        "outputId": "99a3f57b-9145-4802-8256-401a54b238e7"
      },
      "source": [
        "plt.semilogx(history.history[\"lr\"], history.history[\"loss\"])\n",
        "plt.axis([1e-8, 1e-4, 0, 30])"
      ],
      "execution_count": null,
      "outputs": [
        {
          "output_type": "execute_result",
          "data": {
            "text/plain": [
              "[1e-08, 0.0001, 0, 30]"
            ]
          },
          "metadata": {
            "tags": []
          },
          "execution_count": 9
        },
        {
          "output_type": "display_data",
          "data": {
            "image/png": "[encoded data removed]",
            "text/plain": [
              "<Figure size 432x288 with 1 Axes>"
            ]
          },
          "metadata": {
            "tags": []
          }
        }
      ]
    },
    {
      "cell_type": "code",
      "metadata": {
        "id": "4uh-97bpLZCA"
      },
      "source": [
        "tf.keras.backend.clear_session()\n",
        "tf.random.set_seed(51)\n",
        "np.random.seed(51)\n",
        "\n",
        "tf.keras.backend.clear_session()\n",
        "dataset = windowed_dataset(x_train, window_size, batch_size, shuffle_buffer_size)\n",
        "\n",
        "model = tf.keras.models.Sequential([\n",
        "  tf.keras.layers.Lambda(lambda x: tf.expand_dims(x, axis=-1),\n",
        "                      input_shape=[None]),\n",
        "   tf.keras.layers.Bidirectional(tf.keras.layers.LSTM(32, return_sequences=True)),\n",
        "  tf.keras.layers.Bidirectional(tf.keras.layers.LSTM(32)),\n",
        "  tf.keras.layers.Dense(1),\n",
        "  tf.keras.layers.Lambda(lambda x: x * 100.0)\n",
        "])\n",
        "\n",
        "\n",
        "model.compile(loss=\"mse\", optimizer=tf.keras.optimizers.Adam(lr=1e-5),metrics=[\"mae\"])\n",
        "history = model.fit(dataset,epochs=500,verbose=0)"
      ],
      "execution_count": 7,
      "outputs": []
    },
    {
      "cell_type": "code",
      "metadata": {
        "colab": {
          "base_uri": "https://localhost:8080/",
          "height": 388
        },
        "id": "icGDaND7z0ne",
        "outputId": "7725d69f-924a-44f1-8250-8b97355a7c65"
      },
      "source": [
        "forecast = []\n",
        "results = []\n",
        "for time in range(len(series) - window_size):\n",
        "  forecast.append(model.predict(series[time:time + window_size][np.newaxis]))\n",
        "\n",
        "forecast = forecast[split_time-window_size:]\n",
        "results = np.array(forecast)[:, 0, 0]\n",
        "\n",
        "\n",
        "plt.figure(figsize=(10, 6))\n",
        "\n",
        "plot_series(time_valid, x_valid)\n",
        "plot_series(time_valid, results)"
      ],
      "execution_count": 8,
      "outputs": [
        {
          "output_type": "display_data",
          "data": {
            "image/png": "[encoded data removed]",
            "text/plain": [
              "<Figure size 720x432 with 1 Axes>"
            ]
          },
          "metadata": {
            "tags": [],
            "needs_background": "light"
          }
        }
      ]
    },
    {
      "cell_type": "code",
      "metadata": {
        "colab": {
          "base_uri": "https://localhost:8080/"
        },
        "id": "KfPeqI7rz4LD",
        "outputId": "286b0c41-cc05-44f4-f23a-58745c30f3b5"
      },
      "source": [
        "tf.keras.metrics.mean_absolute_error(x_valid, results).numpy()"
      ],
      "execution_count": 9,
      "outputs": [
        {
          "output_type": "execute_result",
          "data": {
            "text/plain": [
              "5.5192027"
            ]
          },
          "metadata": {
            "tags": []
          },
          "execution_count": 9
        }
      ]
    },
    {
      "cell_type": "code",
      "metadata": {
        "colab": {
          "base_uri": "https://localhost:8080/",
          "height": 607
        },
        "id": "JUsdZB_tzDLe",
        "outputId": "17b5d616-b17f-43fd-fff0-8912bd8095cc"
      },
      "source": [
        "import matplotlib.image  as mpimg\n",
        "import matplotlib.pyplot as plt\n",
        "\n",
        "#-----------------------------------------------------------\n",
        "# Retrieve a list of list results on training and test data\n",
        "# sets for each training epoch\n",
        "#-----------------------------------------------------------\n",
        "mae=history.history['mae']\n",
        "loss=history.history['loss']\n",
        "\n",
        "epochs=range(len(loss)) # Get number of epochs\n",
        "\n",
        "#------------------------------------------------\n",
        "# Plot MAE and Loss\n",
        "#------------------------------------------------\n",
        "plt.plot(epochs, mae, 'r')\n",
        "plt.plot(epochs, loss, 'b')\n",
        "plt.title('MAE and Loss')\n",
        "plt.xlabel(\"Epochs\")\n",
        "plt.ylabel(\"Accuracy\")\n",
        "plt.legend([\"MAE\", \"Loss\"])\n",
        "\n",
        "plt.figure()\n",
        "\n",
        "epochs_zoom = epochs[200:]\n",
        "mae_zoom = mae[200:]\n",
        "loss_zoom = loss[200:]\n",
        "\n",
        "#------------------------------------------------\n",
        "# Plot Zoomed MAE and Loss\n",
        "#------------------------------------------------\n",
        "plt.plot(epochs_zoom, mae_zoom, 'r')\n",
        "plt.plot(epochs_zoom, loss_zoom, 'b')\n",
        "plt.title('MAE and Loss')\n",
        "plt.xlabel(\"Epochs\")\n",
        "plt.ylabel(\"Accuracy\")\n",
        "plt.legend([\"MAE\", \"Loss\"])\n",
        "\n",
        "plt.figure()"
      ],
      "execution_count": 11,
      "outputs": [
        {
          "output_type": "execute_result",
          "data": {
            "text/plain": [
              "<Figure size 432x288 with 0 Axes>"
            ]
          },
          "metadata": {
            "tags": []
          },
          "execution_count": 11
        },
        {
          "output_type": "display_data",
          "data": {
            "image/png": "[encoded data removed]",
            "text/plain": [
              "<Figure size 432x288 with 1 Axes>"
            ]
          },
          "metadata": {
            "tags": [],
            "needs_background": "light"
          }
        },
        {
          "output_type": "display_data",
          "data": {
            "image/png": "[encoded data removed]",
            "text/plain": [
              "<Figure size 432x288 with 1 Axes>"
            ]
          },
          "metadata": {
            "tags": [],
            "needs_background": "light"
          }
        },
        {
          "output_type": "display_data",
          "data": {
            "text/plain": [
              "<Figure size 432x288 with 0 Axes>"
            ]
          },
          "metadata": {
            "tags": []
          }
        }
      ]
    },
    {
      "cell_type": "code",
      "metadata": {
        "id": "3CGaYFxXNEAK"
      },
      "source": [
        "tf.keras.backend.clear_session()\n",
        "dataset = windowed_dataset(x_train, window_size, batch_size, shuffle_buffer_size)\n",
        "\n",
        "model = tf.keras.models.Sequential([\n",
        "  tf.keras.layers.Lambda(lambda x: tf.expand_dims(x, axis=-1),\n",
        "                      input_shape=[None]),\n",
        "  tf.keras.layers.Bidirectional(tf.keras.layers.LSTM(32, return_sequences=True)),\n",
        "  tf.keras.layers.Bidirectional(tf.keras.layers.LSTM(32)),\n",
        "  tf.keras.layers.Dense(1),\n",
        "  tf.keras.layers.Lambda(lambda x: x * 100.0)\n",
        "])\n",
        "\n",
        "\n",
        "model.compile(loss=\"mse\", optimizer=tf.keras.optimizers.SGD(lr=1e-6))\n",
        "model.fit(dataset,epochs=100, verbose=0)"
      ],
      "execution_count": null,
      "outputs": []
    },
    {
      "cell_type": "code",
      "metadata": {
        "id": "FJ3R8ysauz9e"
      },
      "source": [
        "tf.keras.backend.clear_session()\n",
        "dataset = windowed_dataset(x_train, window_size, batch_size, shuffle_buffer_size)\n",
        "\n",
        "model = tf.keras.models.Sequential([\n",
        "  tf.keras.layers.Lambda(lambda x: tf.expand_dims(x, axis=-1),\n",
        "                      input_shape=[None]),\n",
        "  tf.keras.layers.Bidirectional(tf.keras.layers.LSTM(32, return_sequences=True)),\n",
        "  tf.keras.layers.Bidirectional(tf.keras.layers.LSTM(32, return_sequences=True)),\n",
        "  tf.keras.layers.Bidirectional(tf.keras.layers.LSTM(32)),\n",
        "  tf.keras.layers.Dense(1),\n",
        "  tf.keras.layers.Lambda(lambda x: x * 100.0)\n",
        "])\n",
        "\n",
        "\n",
        "model.compile(loss=\"mse\", optimizer=tf.keras.optimizers.SGD(lr=1e-6, momentum=0.9))\n",
        "model.fit(dataset,epochs=100)"
      ],
      "execution_count": null,
      "outputs": []
    }
  ]
}